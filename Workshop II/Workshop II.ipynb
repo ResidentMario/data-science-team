{
 "cells": [
  {
   "cell_type": "markdown",
   "metadata": {},
   "source": [
    "## Workshop II&mdash;Basic Python\n",
    "\n",
    "This workshop is a beginner's Python workshop, but it has a specific goal in mind. Thus my focus is on providing a summary of the Python necessary for data analysis development and nothing more. If you're serious about this domain you will need to spend a lot of time learning Python on your own as well!"
   ]
  },
  {
   "cell_type": "markdown",
   "metadata": {},
   "source": [
    "Obligatory print statement."
   ]
  },
  {
   "cell_type": "code",
   "execution_count": null,
   "metadata": {
    "collapsed": false
   },
   "outputs": [],
   "source": [
    "print(\"Hello World!\")"
   ]
  },
  {
   "cell_type": "markdown",
   "metadata": {},
   "source": [
    "Print statement in a function."
   ]
  },
  {
   "cell_type": "code",
   "execution_count": null,
   "metadata": {
    "collapsed": true
   },
   "outputs": [],
   "source": [
    "def print_stuff():\n",
    "    print(\"Hello World!\")"
   ]
  },
  {
   "cell_type": "markdown",
   "metadata": {},
   "source": [
    "Now we can execute it."
   ]
  },
  {
   "cell_type": "code",
   "execution_count": null,
   "metadata": {
    "collapsed": false
   },
   "outputs": [],
   "source": [
    "print_stuff()"
   ]
  },
  {
   "cell_type": "markdown",
   "metadata": {},
   "source": [
    "Functions can take arguments."
   ]
  },
  {
   "cell_type": "code",
   "execution_count": null,
   "metadata": {
    "collapsed": true
   },
   "outputs": [],
   "source": [
    "def print_better_stuff(arg):\n",
    "    print(arg)"
   ]
  },
  {
   "cell_type": "code",
   "execution_count": null,
   "metadata": {
    "collapsed": false
   },
   "outputs": [],
   "source": [
    "print_better_stuff(\"Better stuff right here!\")"
   ]
  },
  {
   "cell_type": "markdown",
   "metadata": {},
   "source": [
    "When an argument is declared this way it is mandatory: the function call will fail otherwise."
   ]
  },
  {
   "cell_type": "code",
   "execution_count": null,
   "metadata": {
    "collapsed": false
   },
   "outputs": [],
   "source": [
    "print_better_stuff()"
   ]
  },
  {
   "cell_type": "markdown",
   "metadata": {},
   "source": [
    "Python has a facility for optional parameters."
   ]
  },
  {
   "cell_type": "code",
   "execution_count": null,
   "metadata": {
    "collapsed": true
   },
   "outputs": [],
   "source": [
    "def print_even_better_stuff(stuff=\"Hello World!\"):\n",
    "    print(\"Hello World!\")"
   ]
  },
  {
   "cell_type": "code",
   "execution_count": null,
   "metadata": {
    "collapsed": false
   },
   "outputs": [],
   "source": [
    "print_even_better_stuff()"
   ]
  },
  {
   "cell_type": "code",
   "execution_count": null,
   "metadata": {
    "collapsed": false
   },
   "outputs": [],
   "source": [
    "print_even_better_stuff(stuff=\"Goodbye World!\")"
   ]
  },
  {
   "cell_type": "markdown",
   "metadata": {},
   "source": [
    "Print statements are great--you will use them to debug your code forever after. But let's move on to functions which actually do stuff to things, and then return them. This is the bread and butter of programming. In Python this is handled by a `return` statement."
   ]
  },
  {
   "cell_type": "code",
   "execution_count": null,
   "metadata": {
    "collapsed": true
   },
   "outputs": [],
   "source": [
    "def print_this_thing(stuff_to_print):\n",
    "    return \"There, I gave you \" + stuff_to_print + \". Happy?\""
   ]
  },
  {
   "cell_type": "markdown",
   "metadata": {},
   "source": [
    "In this case we are building a `string`. One of the simplest data types, a string is just that: a string of characters."
   ]
  },
  {
   "cell_type": "code",
   "execution_count": null,
   "metadata": {
    "collapsed": false
   },
   "outputs": [],
   "source": [
    "print_this_thing(\"50 bucks\")"
   ]
  },
  {
   "cell_type": "markdown",
   "metadata": {},
   "source": [
    "You can tell this is a string because it has single quotes (`'`) around it. You can also have double-quoted strings, the difference is only that of a minor technicality:"
   ]
  },
  {
   "cell_type": "code",
   "execution_count": null,
   "metadata": {
    "collapsed": false,
    "scrolled": true
   },
   "outputs": [],
   "source": [
    "\"Also a string.\""
   ]
  },
  {
   "cell_type": "markdown",
   "metadata": {},
   "source": [
    "Other data types are integers:"
   ]
  },
  {
   "cell_type": "code",
   "execution_count": null,
   "metadata": {
    "collapsed": false
   },
   "outputs": [],
   "source": [
    "1 + 1"
   ]
  },
  {
   "cell_type": "markdown",
   "metadata": {},
   "source": [
    "And floats (for \"floating point\")."
   ]
  },
  {
   "cell_type": "code",
   "execution_count": null,
   "metadata": {
    "collapsed": false
   },
   "outputs": [],
   "source": [
    "3.14 + 42"
   ]
  },
  {
   "cell_type": "markdown",
   "metadata": {},
   "source": [
    "All of these data types represent instances of `objects`. We can bind objects to names so that we can use them to do useful stuff."
   ]
  },
  {
   "cell_type": "code",
   "execution_count": null,
   "metadata": {
    "collapsed": false
   },
   "outputs": [],
   "source": [
    "life = 1\n",
    "death = -1\n",
    "life + death # 1 + -1"
   ]
  },
  {
   "cell_type": "markdown",
   "metadata": {},
   "source": [
    "Functions which `return` something return objects."
   ]
  },
  {
   "cell_type": "code",
   "execution_count": null,
   "metadata": {
    "collapsed": false
   },
   "outputs": [],
   "source": [
    "def return_42():\n",
    "    return 42\n",
    "\n",
    "life = return_42()\n",
    "death = -return_42() # Hey! We took a negative!\n",
    "life + death"
   ]
  },
  {
   "cell_type": "markdown",
   "metadata": {},
   "source": [
    "Python is an object-oriented language, as is almost every programming language of note today, so in addition to these simple objects - strings, floats, etc. - we can also define our own, more complicated objects. Here's how to create one:"
   ]
  },
  {
   "cell_type": "code",
   "execution_count": null,
   "metadata": {
    "collapsed": false
   },
   "outputs": [],
   "source": [
    "class Life_Universe_Everything:\n",
    "    \n",
    "    def __init__(self):\n",
    "        self.answer = 42\n",
    "    \n",
    "    def answer_question(self):\n",
    "        return self.answer"
   ]
  },
  {
   "cell_type": "code",
   "execution_count": null,
   "metadata": {
    "collapsed": true
   },
   "outputs": [],
   "source": [
    "question = Life_Universe_Everything()"
   ]
  },
  {
   "cell_type": "markdown",
   "metadata": {},
   "source": [
    "There's a lot going on here - but in the interest of time we'll gloss over the details, since we'll only be using pre-existing objects in this project, not defining our own. Instead I want to point out two things:\n",
    "\n",
    "1. To run an object method, do `object.method()`.\n",
    "2. To access an object parameter, do `object.parameter`."
   ]
  },
  {
   "cell_type": "markdown",
   "metadata": {},
   "source": [
    "Since our `answer_question()` method is pretty silly, we can answer this question in two ways:"
   ]
  },
  {
   "cell_type": "code",
   "execution_count": null,
   "metadata": {
    "collapsed": false
   },
   "outputs": [],
   "source": [
    "question.answer_question()"
   ]
  },
  {
   "cell_type": "code",
   "execution_count": null,
   "metadata": {
    "collapsed": false
   },
   "outputs": [],
   "source": [
    "question.answer"
   ]
  },
  {
   "cell_type": "markdown",
   "metadata": {},
   "source": [
    "These kinds of structures are especially important in data science, where robust error handling is super critical."
   ]
  },
  {
   "cell_type": "markdown",
   "metadata": {},
   "source": [
    "There are two kinds of basic data structures that we will use right away: `lists` and `dicts`. Here's a list:"
   ]
  },
  {
   "cell_type": "code",
   "execution_count": null,
   "metadata": {
    "collapsed": false
   },
   "outputs": [],
   "source": [
    "silly_list = [1, 2, 3, 4, \"Elmo wants to count some more!\"]\n",
    "print(silly_list)"
   ]
  },
  {
   "cell_type": "markdown",
   "metadata": {},
   "source": [
    "To index a list you use an index. **Note that indexes in programming start at 0, not 1**. See:"
   ]
  },
  {
   "cell_type": "code",
   "execution_count": null,
   "metadata": {
    "collapsed": false,
    "scrolled": true
   },
   "outputs": [],
   "source": [
    "print(silly_list[0])\n",
    "print(silly_list[1])"
   ]
  },
  {
   "cell_type": "markdown",
   "metadata": {},
   "source": [
    "If you try to get an item that is outside of the bounds of the list, you get an explosion:"
   ]
  },
  {
   "cell_type": "code",
   "execution_count": null,
   "metadata": {
    "collapsed": false
   },
   "outputs": [],
   "source": [
    "print(silly_list[5])"
   ]
  },
  {
   "cell_type": "markdown",
   "metadata": {},
   "source": [
    "The other data type is the dict. A dict stores information by name."
   ]
  },
  {
   "cell_type": "code",
   "execution_count": null,
   "metadata": {
    "collapsed": true
   },
   "outputs": [],
   "source": [
    "silly_dict   = {\"One\": 1,\n",
    "                \"Two\": 2,\n",
    "                \"Three\": 3,\n",
    "                \"Four\": 4,\n",
    "                \"Five\": 5\n",
    "               }"
   ]
  },
  {
   "cell_type": "markdown",
   "metadata": {},
   "source": [
    "To index these we have to call what we want by name."
   ]
  },
  {
   "cell_type": "code",
   "execution_count": null,
   "metadata": {
    "collapsed": false
   },
   "outputs": [],
   "source": [
    "silly_dict[\"One\"]"
   ]
  },
  {
   "cell_type": "markdown",
   "metadata": {},
   "source": [
    "We can provide control conditions using a so-called `if-else` block."
   ]
  },
  {
   "cell_type": "code",
   "execution_count": null,
   "metadata": {
    "collapsed": true
   },
   "outputs": [],
   "source": [
    "def count_to_four(name):\n",
    "    if name == 'Elmo':\n",
    "        print(\"One, two, three, four, I want to count some more!\")\n",
    "    else:\n",
    "        print(\"Are you questioning my intelligence?\")"
   ]
  },
  {
   "cell_type": "code",
   "execution_count": null,
   "metadata": {
    "collapsed": false
   },
   "outputs": [],
   "source": [
    "count_to_four(\"Elmo\")"
   ]
  },
  {
   "cell_type": "code",
   "execution_count": null,
   "metadata": {
    "collapsed": false
   },
   "outputs": [],
   "source": [
    "count_to_four(\"You\")"
   ]
  },
  {
   "cell_type": "markdown",
   "metadata": {},
   "source": [
    "`==` here is a comparison operator. It checks if the `name` argument that we pass really is `Elmo`. `If` it is, do this, or `else` do that."
   ]
  },
  {
   "cell_type": "markdown",
   "metadata": {},
   "source": [
    "Loops are useful for more complex things. There are two types, `while` loops and `for` loops. A `while` loop executes as long as a condition holds, a `for` loop iterates through a list."
   ]
  },
  {
   "cell_type": "markdown",
   "metadata": {},
   "source": [
    "Most programming languages implement so-called `try-catch` blocks to help with handling errors. Python is no exception. Here's an example in action:"
   ]
  },
  {
   "cell_type": "code",
   "execution_count": null,
   "metadata": {
    "collapsed": false
   },
   "outputs": [],
   "source": [
    "try:\n",
    "    print(1 + \"Dagnabit!\")\n",
    "except TypeError:\n",
    "    print(\"You can't add an integer and a string! Like what?\")"
   ]
  },
  {
   "cell_type": "markdown",
   "metadata": {},
   "source": [
    "You can also `raise` your own errors."
   ]
  },
  {
   "cell_type": "code",
   "execution_count": null,
   "metadata": {
    "collapsed": false
   },
   "outputs": [],
   "source": [
    "raise OSError(\"Most troubling, Master Bruce.\")"
   ]
  },
  {
   "cell_type": "markdown",
   "metadata": {},
   "source": [
    "Why reinvent the wheel? A lot of libraries (packages) exist out there that solve a lot of the problems that you will encounter, at a minimum, and allow whole new worlds to explore, at a maximum.\n",
    "\n",
    "To get these packages yourself you need to `pip install` them in the command console. We did that a bunch of times for the stuff that we need for this project at the beginning of this session (or at home beforehand, even better!). Then once they're available, you can `import` them so that you can use them."
   ]
  },
  {
   "cell_type": "markdown",
   "metadata": {},
   "source": [
    "Here's what happens when your package is not available:"
   ]
  },
  {
   "cell_type": "code",
   "execution_count": null,
   "metadata": {
    "collapsed": false
   },
   "outputs": [],
   "source": [
    "import pseudoscorpion"
   ]
  },
  {
   "cell_type": "markdown",
   "metadata": {},
   "source": [
    "Of course when it is available, nothing happens - it just works."
   ]
  },
  {
   "cell_type": "code",
   "execution_count": null,
   "metadata": {
    "collapsed": true
   },
   "outputs": [],
   "source": [
    "import os"
   ]
  },
  {
   "cell_type": "markdown",
   "metadata": {},
   "source": [
    "There's one more semantic thing that we need to pay attention to. When importing a library you can choose instead to import a class or module from that library. There's all sorts of constructions that you can use for this stuff, but for our purposes you'll only see three:\n",
    "\n",
    "* `import library`. Then, if we want the `Book` object in our code we'll need `library.Book`.\n",
    "* `from library import Book`. Then if we want the `Book` object in our code we'll need the `Book` object, that's it.\n",
    "* `import library as lib`. Then if we want the `Book` object we'll need `lib.Book`. Nothing major."
   ]
  },
  {
   "cell_type": "markdown",
   "metadata": {},
   "source": [
    "That concludes our crash course in basic Python!"
   ]
  },
  {
   "cell_type": "markdown",
   "metadata": {},
   "source": [
    "# What you need to be doing on your own\n",
    "\n",
    "All of our future work is going to be in Python so you really need to bootcamp the language.\n",
    "\n",
    "Though it's a core skillset, being a pro Python programmer is not a prerequisite for doing data science. Even though it will take you a while, at first, to figure out how to do things, those things that you do will be more memorable and stick with you better in the long term if you learn them while working on a project that interests you, instead of random assignments that other people come up with that don't have any relation to what you're doing at all.\n",
    "\n",
    "[This is the best introductory course in data science-targeted Python available](https://www.codecademy.com/). This course is ~13 hours long, more than a good enough time investment to learn everything that you need to start working on your own projects.\n",
    "\n",
    "# What we will be doing next time\n",
    "\n",
    "Today was a code-heavy day. Our next workshop will involve no code at all&mdash;instead we will work through installing the data science technology stack that we used today, but glossed over. Once we learn how all the bits and pieces of a project fit together next week, you'll have all of the tools you need to start working on projects on your own!"
   ]
  },
  {
   "cell_type": "code",
   "execution_count": null,
   "metadata": {
    "collapsed": true
   },
   "outputs": [],
   "source": []
  }
 ],
 "metadata": {
  "kernelspec": {
   "display_name": "Python 3",
   "language": "python",
   "name": "python3"
  },
  "language_info": {
   "codemirror_mode": {
    "name": "ipython",
    "version": 3
   },
   "file_extension": ".py",
   "mimetype": "text/x-python",
   "name": "python",
   "nbconvert_exporter": "python",
   "pygments_lexer": "ipython3",
   "version": "3.5.1"
  }
 },
 "nbformat": 4,
 "nbformat_minor": 0
}
