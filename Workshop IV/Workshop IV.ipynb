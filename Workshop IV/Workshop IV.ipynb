{
 "cells": [
  {
   "cell_type": "markdown",
   "metadata": {},
   "source": [
    "# Workshop IV"
   ]
  },
  {
   "cell_type": "markdown",
   "metadata": {},
   "source": [
    "For this workshop we're going to munge some [real data](http://www1.nyc.gov/site/finance/taxes/property-rolling-sales-data.page) with `pandas`!"
   ]
  },
  {
   "cell_type": "markdown",
   "metadata": {},
   "source": [
    "## Data\n",
    "\n",
    "The data in question is a 12-month feed of property sales in New York City knowing as the \"Rolling Sales Dataset\" which is publicly published by the New York City Department of Finance on a monthly basis."
   ]
  },
  {
   "cell_type": "code",
   "execution_count": 1,
   "metadata": {
    "collapsed": true
   },
   "outputs": [],
   "source": [
    "import pandas as pd"
   ]
  },
  {
   "cell_type": "code",
   "execution_count": 5,
   "metadata": {
    "collapsed": false,
    "scrolled": true
   },
   "outputs": [
    {
     "name": "stderr",
     "output_type": "stream",
     "text": [
      "/Users/Honors/anaconda/lib/python3.5/site-packages/IPython/core/interactiveshell.py:2902: DtypeWarning: Columns (9) have mixed types. Specify dtype option on import or set low_memory=False.\n",
      "  interactivity=interactivity, compiler=compiler, result=result)\n"
     ]
    }
   ],
   "source": [
    "rs = pd.read_csv(\"nyc_rolling_sales.csv\", index_col=0)"
   ]
  },
  {
   "cell_type": "code",
   "execution_count": 7,
   "metadata": {
    "collapsed": true
   },
   "outputs": [],
   "source": [
    "pd.set_option('display.max_columns', 500)"
   ]
  },
  {
   "cell_type": "code",
   "execution_count": 8,
   "metadata": {
    "collapsed": false
   },
   "outputs": [
    {
     "data": {
      "text/html": [
       "<div>\n",
       "<table border=\"1\" class=\"dataframe\">\n",
       "  <thead>\n",
       "    <tr style=\"text-align: right;\">\n",
       "      <th></th>\n",
       "      <th>ADDRESS</th>\n",
       "      <th>APARTMENT NUMBER</th>\n",
       "      <th>BLOCK</th>\n",
       "      <th>BUILDING CLASS AT PRESENT</th>\n",
       "      <th>BUILDING CLASS AT TIME OF SALE</th>\n",
       "      <th>BUILDING CLASS CATEGORY</th>\n",
       "      <th>Borough</th>\n",
       "      <th>COMMERCIAL UNITS</th>\n",
       "      <th>EASE-MENT</th>\n",
       "      <th>GROSS SQUARE FEET</th>\n",
       "      <th>LAND SQUARE FEET</th>\n",
       "      <th>LOT</th>\n",
       "      <th>NEIGHBORHOOD</th>\n",
       "      <th>RESIDENTIAL UNITS</th>\n",
       "      <th>SALE DATE</th>\n",
       "      <th>SALE PRICE</th>\n",
       "      <th>TAX CLASS AT PRESENT</th>\n",
       "      <th>TAX CLASS AT TIME OF SALE</th>\n",
       "      <th>TOTAL UNITS</th>\n",
       "      <th>YEAR BUILT</th>\n",
       "      <th>ZIP CODE</th>\n",
       "    </tr>\n",
       "  </thead>\n",
       "  <tbody>\n",
       "    <tr>\n",
       "      <th>0</th>\n",
       "      <td>264 EAST 7TH STREET</td>\n",
       "      <td>NaN</td>\n",
       "      <td>376.0</td>\n",
       "      <td>C0</td>\n",
       "      <td>C0</td>\n",
       "      <td>03  THREE FAMILY DWELLINGS</td>\n",
       "      <td>Manhattan</td>\n",
       "      <td>0.0</td>\n",
       "      <td>NaN</td>\n",
       "      <td>3696.0</td>\n",
       "      <td>2059.0</td>\n",
       "      <td>24.0</td>\n",
       "      <td>ALPHABET CITY</td>\n",
       "      <td>3.0</td>\n",
       "      <td>2015-10-22 00:00:00</td>\n",
       "      <td>3775000.0</td>\n",
       "      <td>1.0</td>\n",
       "      <td>1.0</td>\n",
       "      <td>3.0</td>\n",
       "      <td>1900.0</td>\n",
       "      <td>10009.0</td>\n",
       "    </tr>\n",
       "    <tr>\n",
       "      <th>1</th>\n",
       "      <td>243 EAST 7TH   STREET</td>\n",
       "      <td>NaN</td>\n",
       "      <td>377.0</td>\n",
       "      <td>C0</td>\n",
       "      <td>C0</td>\n",
       "      <td>03  THREE FAMILY DWELLINGS</td>\n",
       "      <td>Manhattan</td>\n",
       "      <td>0.0</td>\n",
       "      <td>NaN</td>\n",
       "      <td>3084.0</td>\n",
       "      <td>2381.0</td>\n",
       "      <td>66.0</td>\n",
       "      <td>ALPHABET CITY</td>\n",
       "      <td>3.0</td>\n",
       "      <td>2015-06-24 00:00:00</td>\n",
       "      <td>2900000.0</td>\n",
       "      <td>1.0</td>\n",
       "      <td>1.0</td>\n",
       "      <td>3.0</td>\n",
       "      <td>1899.0</td>\n",
       "      <td>10009.0</td>\n",
       "    </tr>\n",
       "    <tr>\n",
       "      <th>2</th>\n",
       "      <td>238 EAST 4TH   STREET</td>\n",
       "      <td>-</td>\n",
       "      <td>399.0</td>\n",
       "      <td>R6</td>\n",
       "      <td>R6</td>\n",
       "      <td>04  TAX CLASS 1 CONDOS</td>\n",
       "      <td>Manhattan</td>\n",
       "      <td>0.0</td>\n",
       "      <td>NaN</td>\n",
       "      <td>0.0</td>\n",
       "      <td>0.0</td>\n",
       "      <td>1101.0</td>\n",
       "      <td>ALPHABET CITY</td>\n",
       "      <td>1.0</td>\n",
       "      <td>2015-06-15 00:00:00</td>\n",
       "      <td>6995000.0</td>\n",
       "      <td>1C</td>\n",
       "      <td>1.0</td>\n",
       "      <td>1.0</td>\n",
       "      <td>1955.0</td>\n",
       "      <td>10009.0</td>\n",
       "    </tr>\n",
       "    <tr>\n",
       "      <th>3</th>\n",
       "      <td>326 EAST 4TH   STREET</td>\n",
       "      <td>NaN</td>\n",
       "      <td>373.0</td>\n",
       "      <td>C1</td>\n",
       "      <td>C1</td>\n",
       "      <td>07  RENTALS - WALKUP APARTMENTS</td>\n",
       "      <td>Manhattan</td>\n",
       "      <td>0.0</td>\n",
       "      <td>NaN</td>\n",
       "      <td>8625.0</td>\n",
       "      <td>2204.0</td>\n",
       "      <td>16.0</td>\n",
       "      <td>ALPHABET CITY</td>\n",
       "      <td>10.0</td>\n",
       "      <td>2015-11-17 00:00:00</td>\n",
       "      <td>20000000.0</td>\n",
       "      <td>2B</td>\n",
       "      <td>2.0</td>\n",
       "      <td>10.0</td>\n",
       "      <td>1899.0</td>\n",
       "      <td>10009.0</td>\n",
       "    </tr>\n",
       "    <tr>\n",
       "      <th>4</th>\n",
       "      <td>328 EAST 4TH   STREET</td>\n",
       "      <td>NaN</td>\n",
       "      <td>373.0</td>\n",
       "      <td>C1</td>\n",
       "      <td>C1</td>\n",
       "      <td>07  RENTALS - WALKUP APARTMENTS</td>\n",
       "      <td>Manhattan</td>\n",
       "      <td>0.0</td>\n",
       "      <td>NaN</td>\n",
       "      <td>8625.0</td>\n",
       "      <td>2204.0</td>\n",
       "      <td>17.0</td>\n",
       "      <td>ALPHABET CITY</td>\n",
       "      <td>10.0</td>\n",
       "      <td>2015-11-17 00:00:00</td>\n",
       "      <td>0.0</td>\n",
       "      <td>2B</td>\n",
       "      <td>2.0</td>\n",
       "      <td>10.0</td>\n",
       "      <td>1900.0</td>\n",
       "      <td>10009.0</td>\n",
       "    </tr>\n",
       "  </tbody>\n",
       "</table>\n",
       "</div>"
      ],
      "text/plain": [
       "                 ADDRESS APARTMENT NUMBER  BLOCK BUILDING CLASS AT PRESENT  \\\n",
       "0    264 EAST 7TH STREET              NaN  376.0                        C0   \n",
       "1  243 EAST 7TH   STREET              NaN  377.0                        C0   \n",
       "2  238 EAST 4TH   STREET                -  399.0                        R6   \n",
       "3  326 EAST 4TH   STREET              NaN  373.0                        C1   \n",
       "4  328 EAST 4TH   STREET              NaN  373.0                        C1   \n",
       "\n",
       "  BUILDING CLASS AT TIME OF SALE          BUILDING CLASS CATEGORY    Borough  \\\n",
       "0                             C0       03  THREE FAMILY DWELLINGS  Manhattan   \n",
       "1                             C0       03  THREE FAMILY DWELLINGS  Manhattan   \n",
       "2                             R6           04  TAX CLASS 1 CONDOS  Manhattan   \n",
       "3                             C1  07  RENTALS - WALKUP APARTMENTS  Manhattan   \n",
       "4                             C1  07  RENTALS - WALKUP APARTMENTS  Manhattan   \n",
       "\n",
       "   COMMERCIAL UNITS EASE-MENT  GROSS SQUARE FEET  LAND SQUARE FEET     LOT  \\\n",
       "0               0.0       NaN             3696.0            2059.0    24.0   \n",
       "1               0.0       NaN             3084.0            2381.0    66.0   \n",
       "2               0.0       NaN                0.0               0.0  1101.0   \n",
       "3               0.0       NaN             8625.0            2204.0    16.0   \n",
       "4               0.0       NaN             8625.0            2204.0    17.0   \n",
       "\n",
       "    NEIGHBORHOOD  RESIDENTIAL UNITS            SALE DATE  SALE PRICE  \\\n",
       "0  ALPHABET CITY                3.0  2015-10-22 00:00:00   3775000.0   \n",
       "1  ALPHABET CITY                3.0  2015-06-24 00:00:00   2900000.0   \n",
       "2  ALPHABET CITY                1.0  2015-06-15 00:00:00   6995000.0   \n",
       "3  ALPHABET CITY               10.0  2015-11-17 00:00:00  20000000.0   \n",
       "4  ALPHABET CITY               10.0  2015-11-17 00:00:00         0.0   \n",
       "\n",
       "  TAX CLASS AT PRESENT  TAX CLASS AT TIME OF SALE  TOTAL UNITS  YEAR BUILT  \\\n",
       "0                  1.0                        1.0          3.0      1900.0   \n",
       "1                  1.0                        1.0          3.0      1899.0   \n",
       "2                   1C                        1.0          1.0      1955.0   \n",
       "3                   2B                        2.0         10.0      1899.0   \n",
       "4                   2B                        2.0         10.0      1900.0   \n",
       "\n",
       "   ZIP CODE  \n",
       "0   10009.0  \n",
       "1   10009.0  \n",
       "2   10009.0  \n",
       "3   10009.0  \n",
       "4   10009.0  "
      ]
     },
     "execution_count": 8,
     "metadata": {},
     "output_type": "execute_result"
    }
   ],
   "source": [
    "rs.head(5)"
   ]
  },
  {
   "cell_type": "code",
   "execution_count": 9,
   "metadata": {
    "collapsed": false
   },
   "outputs": [
    {
     "name": "stdout",
     "output_type": "stream",
     "text": [
      "Workshop IV.ipynb      data_dictionary.pdf    nyc_rolling_sales.csv\r\n"
     ]
    }
   ],
   "source": [
    "%ls"
   ]
  },
  {
   "cell_type": "markdown",
   "metadata": {},
   "source": [
    "Open the data dictionary and take a moment to leaf through the definitions before we dive in.\n"
   ]
  },
  {
   "cell_type": "markdown",
   "metadata": {},
   "source": [
    "## Question time"
   ]
  },
  {
   "cell_type": "code",
   "execution_count": 11,
   "metadata": {
    "collapsed": false
   },
   "outputs": [
    {
     "data": {
      "text/plain": [
       "Queens           25049\n",
       "Manhattan        23810\n",
       "Brooklyn         23785\n",
       "Staten Island     6785\n",
       "Bronx             6407\n",
       "Name: Borough, dtype: int64"
      ]
     },
     "execution_count": 11,
     "metadata": {},
     "output_type": "execute_result"
    }
   ],
   "source": [
    "rs['Borough'].value_counts()"
   ]
  },
  {
   "cell_type": "code",
   "execution_count": 14,
   "metadata": {
    "collapsed": true
   },
   "outputs": [],
   "source": [
    "%matplotlib inline"
   ]
  },
  {
   "cell_type": "code",
   "execution_count": 15,
   "metadata": {
    "collapsed": false
   },
   "outputs": [
    {
     "data": {
      "text/plain": [
       "<matplotlib.axes._subplots.AxesSubplot at 0x116627f98>"
      ]
     },
     "execution_count": 15,
     "metadata": {},
     "output_type": "execute_result"
    },
    {
     "data": {
      "image/png": "[encoded data removed]",
      "text/plain": [
       "<matplotlib.figure.Figure at 0x116627438>"
      ]
     },
     "metadata": {},
     "output_type": "display_data"
    }
   ],
   "source": [
    "rs['Borough'].value_counts().plot(kind='bar')"
   ]
  },
  {
   "cell_type": "code",
   "execution_count": 20,
   "metadata": {
    "collapsed": false
   },
   "outputs": [
    {
     "data": {
      "text/plain": [
       "HU2        1511\n",
       "TIMES      1090\n",
       "4.0         265\n",
       "3A          258\n",
       "2A          254\n",
       "2.0         250\n",
       "3B          245\n",
       "1.0         230\n",
       "3.0         228\n",
       "2B          228\n",
       "4A          225\n",
       "6.0         223\n",
       "4B          218\n",
       "5B          176\n",
       "1A          175\n",
       "1B          174\n",
       "5A          164\n",
       "3C          153\n",
       "6A          145\n",
       "4D          136\n",
       "4C          134\n",
       "3D          133\n",
       "2C          133\n",
       "2D          131\n",
       "6B          127\n",
       "5C          127\n",
       "5D          102\n",
       "5.0          97\n",
       "7A           97\n",
       "6C           96\n",
       "           ... \n",
       "400.0         1\n",
       "23M           1\n",
       "2503.0        1\n",
       "540E          1\n",
       "2318.0        1\n",
       "CA/1A         1\n",
       "PENT          1\n",
       "STOR19        1\n",
       "G14E          1\n",
       "8AN           1\n",
       "28B3          1\n",
       "507N          1\n",
       "PH2N          1\n",
       "01-C          1\n",
       "7-144         1\n",
       "PH54D         1\n",
       "F 9           1\n",
       "2J2           1\n",
       "RU4D          1\n",
       "14143.0       1\n",
       "596.0         1\n",
       "P66           1\n",
       "PK-14         1\n",
       "RU18B         1\n",
       "11 EA         1\n",
       "86A           1\n",
       "17 H          1\n",
       "RENT          1\n",
       "201S          1\n",
       "PH56D         1\n",
       "Name: APARTMENT NUMBER, dtype: int64"
      ]
     },
     "execution_count": 20,
     "metadata": {},
     "output_type": "execute_result"
    }
   ],
   "source": [
    "rs['APARTMENT NUMBER'].value_counts()"
   ]
  },
  {
   "cell_type": "markdown",
   "metadata": {},
   "source": [
    "Not that many sales in Manhattan! Remember: the other boroughs have more people and (significantly) smaller buildings, so this makes sense; still, the scale of the difference is surprising.\n",
    "\n",
    "Brooklyn has significantly fewer properties than Queens, providing a little bit of credence to the well-known supposition that residents of Queens, which also has (for now) a slightly smaller population, face easier housing pressure than Brooklyn is.\n",
    "\n",
    "Interestingly enough, the Bronx has fewer identifiable pieces of property than Staten Island, which comes as a surprise, as Staten Island has significantly fewer people. But this also means that there is more land for those people to own, and Staten Island does have a higher land area than the Bronx."
   ]
  },
  {
   "cell_type": "markdown",
   "metadata": {},
   "source": [
    "## Further questions"
   ]
  },
  {
   "cell_type": "markdown",
   "metadata": {},
   "source": [
    "Let's come up with questions that we can ask about this dataset!\n",
    "\n",
    "I will do my best to come up with the expressions that we can use the answer them."
   ]
  }
 ],
 "metadata": {
  "kernelspec": {
   "display_name": "Python 3",
   "language": "python",
   "name": "python3"
  },
  "language_info": {
   "codemirror_mode": {
    "name": "ipython",
    "version": 3
   },
   "file_extension": ".py",
   "mimetype": "text/x-python",
   "name": "python",
   "nbconvert_exporter": "python",
   "pygments_lexer": "ipython3",
   "version": "3.5.1"
  }
 },
 "nbformat": 4,
 "nbformat_minor": 0
}
