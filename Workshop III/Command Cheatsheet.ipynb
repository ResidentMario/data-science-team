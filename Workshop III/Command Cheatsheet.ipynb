{
 "cells": [
  {
   "cell_type": "markdown",
   "metadata": {},
   "source": [
    "**Note**: `[stuff]` indicates an optional argument."
   ]
  },
  {
   "cell_type": "markdown",
   "metadata": {},
   "source": [
    "# Command Console\n",
    "* `ls` (`dir` on Windows) lists all of the files in the current directory.\n",
    "* `cd [dir]` navigates into the `[dir]` directory, whatever that may be (for example, `cd Desktop`).\n",
    "* `cd ..` goes up one directory (for example, from `C:\\Users\\Alex` to `C:\\Users`).\n",
    "* `rm [filename]` (`del [filename]` on Windows) deletes a file."
   ]
  },
  {
   "cell_type": "markdown",
   "metadata": {},
   "source": [
    "# Pip\n",
    "\n",
    "* `pip list` lists all of the packages installed in the current environment.\n",
    "* `pip install [package]` attempts to install `[package]`.\n",
    "* `pip uninstall [package]` uninstalls `[package]`.\n",
    "* `pip install --upgrade [package]` attempts to update `[package]` to the latest version."
   ]
  },
  {
   "cell_type": "markdown",
   "metadata": {},
   "source": [
    "# Conda\n",
    "\n",
    "* `conda create --name [environment_name] [first_package]` creates a new virtual environment with `[first_package]` and Python installed in it.\n",
    "* `conda env list` lists all of the environments that you have installed.\n",
    "* `conda list` lists all of the packages installed in the current environment (just like `pip list`).\n",
    "* `source activate [environment_name]` (just `activate [environment_name]` on Windows) activates the `environment_name` virtual environment.\n",
    "* `source deactivate` (just `deactivate` on Windows) deactivates the current virtual environment.\n",
    "* `conda env remove --name [environment_name]` deletes the `environment_name` virtual environment."
   ]
  },
  {
   "cell_type": "markdown",
   "metadata": {},
   "source": [
    "# Git\n",
    "\n",
    "* `git clone [git_repository_link]` clones the master repository located at `git_repository_link` into a new folder in your current directory.\n",
    "* `git status` checks the commit status of the repository you are currently in.\n",
    "* `git add .` adds all of your local changes to your repository.\n",
    "* `git commit -m \"[some message]\"` commits your local changes (still just part of local history).\n",
    "* `git push` pushes your local cahnges to the master repository.\n",
    "\n",
    "* `git pull` downloads any changes from the master repository."
   ]
  }
 ],
 "metadata": {
  "kernelspec": {
   "display_name": "Python 3",
   "language": "python",
   "name": "python3"
  },
  "language_info": {
   "codemirror_mode": {
    "name": "ipython",
    "version": 3
   },
   "file_extension": ".py",
   "mimetype": "text/x-python",
   "name": "python",
   "nbconvert_exporter": "python",
   "pygments_lexer": "ipython3",
   "version": "3.5.1"
  }
 },
 "nbformat": 4,
 "nbformat_minor": 0
}
