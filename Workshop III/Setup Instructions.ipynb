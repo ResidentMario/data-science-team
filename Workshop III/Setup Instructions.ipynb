{
 "cells": [
  {
   "cell_type": "markdown",
   "metadata": {},
   "source": [
    "# Setup\n",
    "\n",
    "1. Download the [Anaconda&mdash;Python 3.5 distribution](https://www.continuum.io/downloads).\n",
    "2. Verify that your installation worked: open Terminal or Command Console. If you've never done so before, Google for instructions on doing so for your OS in question&mdash;shouldn't be hard. Got it open? Good; now type in `python --version`. If all is well, you should get `Python 3.4.1` or `Python 3.5.0` or `Python 3.5.1` (plus minus some text about it being an `Anaconda` distribution).\n",
    "3. Type in and run `git`. If this results in an error you still have to install it (it's provided by default on Linux and OSX machines): [get the appropriate version here](https://git-scm.com/downloads). Then type in and run `git`&mdash;as long as you don't get back an error you know it's working.\n",
    "4. [Create an account on GitHub.com](https://github.com/join)."
   ]
  }
 ],
 "metadata": {
  "kernelspec": {
   "display_name": "Python 3",
   "language": "python",
   "name": "python3"
  },
  "language_info": {
   "codemirror_mode": {
    "name": "ipython",
    "version": 3
   },
   "file_extension": ".py",
   "mimetype": "text/x-python",
   "name": "python",
   "nbconvert_exporter": "python",
   "pygments_lexer": "ipython3",
   "version": "3.5.1"
  }
 },
 "nbformat": 4,
 "nbformat_minor": 0
}
