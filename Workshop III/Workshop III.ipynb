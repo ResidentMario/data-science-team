{
 "cells": [
  {
   "cell_type": "markdown",
   "metadata": {},
   "source": [
    "# Agenda\n",
    "\n",
    "1. Discuss the scientific programming stack and how to install it on your own machine&mdash;forreal this time.\n",
    " * Python (a brief history, why it's good, why it's good for data science, 3 versus 2)\n",
    " * Anaconda (the scientific programming stack, package management, environment management)\n",
    " * Conda (`conda create env --name` , `conda install`, `conda uninstall`)\n",
    " * Pip (`pip install`, `pip uninstall`, `pip install --upgrade`)\n",
    " * Git (`checkout`, `status`, `add`, `commit`, `push`, `pull`)\n",
    " * GitHub (where the code at)\n",
    " * `ipython` (just mention that it exists)\n",
    " * `jupyter notebook` (writing code inline, benefit of having markdown cells)\n",
    " * `numpy` (what is a linear algebra library good for, challenges and benefits of running actual `FORTRAN 77` code)\n",
    " * `pandas` (why the `DataFrame`?)\n",
    "2. How to start learning on your own&mdash;roadmap on what to use. **Note to self: walk through the notebook checkout process**.\n",
    " 1. [Basic Python Course&mdash;Codeacademy](https://www.codecademy.com/learn/python).\n",
    " 2. [Crash Course in Numpy and Pandas](https://github.com/anabranch/data_analysis_with_python_and_pandas).\n",
    " 3. [Data Visualization in Pandas](http://pandas.pydata.org/pandas-docs/stable/visualization.html).\n",
    " 4. From here you should have enough knowledge to put into action and attempt your first project!\n",
    "3. Project ideas that people have so far.\n",
    "4. Logistics going forward, and the general sketch of material responsibilities."
   ]
  },
  {
   "cell_type": "markdown",
   "metadata": {},
   "source": [
    "**Note to future self**:\n",
    " * `Workshop II -> Workshop IV + V`.\n",
    " * `Workshop III -> Workshop II`\n",
    " * `A purpose-built gentler introduction -> Workshop II`\n",
    " * `Presentations, Kaggle team signups -> Workshop VI`\n",
    " * `Off the rails -> Workshop VII+`"
   ]
  },
  {
   "cell_type": "markdown",
   "metadata": {},
   "source": [
    "# Addendum: Other cool stuff\n",
    "\n",
    "* Basic Python: everyone ought to have finished the Codeacademy material.\n",
    "* Pandas: https://github.com/jvns/pandas-cookbook. https://github.com/brandon-rhodes/pycon-pandas-tutorial \n",
    "* Maybe the best one, a full course: https://github.com/anabranch/data_analysis_with_python_and_pandas \n",
    "* H2O demos? https://github.com/h2oai/h2o-3/tree/master/h2o-py/demos \n",
    "* H2O booklets: https://github.com/h2oai/h2o-3/tree/master/h2o-docs/src/booklets/v2_2015/PDFs/online \n",
    "* Kaggle by way of Pandas and Scikit-learn: https://github.com/savarin/pyconuk-introtutorial. Also https://github.com/GaelVaroquaux/sklearn_pandas_tutorial/tree/master/notebooks \n",
    "* Comparative: https://github.com/contravariant/pandas_dplyr.\n",
    "* Ooh. Looks useful for our GIS visualization project: https://github.com/UDST/pandana \n",
    "* Matplotlib tutorial: https://github.com/rougier/matplotlib-tutorial.\n",
    "* Leaflet plotting via matplotlib: https://github.com/jwass/mplleaflet\n",
    "* Plotly offline? https://plot.ly/python/offline/ \n",
    "* Numpy tutorial: https://github.com/rougier/numpy-tutorial\n",
    "* Numpy practice questions:  https://github.com/rougier/numpy-100 \n",
    "* Really solid scientific Python lecture notes, with examples to work on: https://github.com/scipy-lectures/scipy-lecture-notes"
   ]
  }
 ],
 "metadata": {
  "kernelspec": {
   "display_name": "Python 3",
   "language": "python",
   "name": "python3"
  },
  "language_info": {
   "codemirror_mode": {
    "name": "ipython",
    "version": 3
   },
   "file_extension": ".py",
   "mimetype": "text/x-python",
   "name": "python",
   "nbconvert_exporter": "python",
   "pygments_lexer": "ipython3",
   "version": "3.5.1"
  }
 },
 "nbformat": 4,
 "nbformat_minor": 0
}
