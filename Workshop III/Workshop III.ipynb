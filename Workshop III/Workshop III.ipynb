{
 "cells": [
  {
   "cell_type": "markdown",
   "metadata": {},
   "source": [
    "# Agenda\n",
    "\n",
    "1. Discuss the scientific programming stack and how to install it on your own machine&mdash;forreal this time.\n",
    " * Python (a brief history, why it's good, why it's good for data science, 3 versus 2)\n",
    " * Anaconda (the scientific programming stack)\n",
    " * `command console`\n",
    " * `ipython` (just mention that it exists)\n",
    " * Pip\n",
    " * Conda\n",
    " * `jupyter notebook`\n",
    " * GitHub\n",
    " * Git"
   ]
  },
  {
   "cell_type": "markdown",
   "metadata": {},
   "source": [
    "# Addendum: Other cool stuff\n",
    "\n",
    "* Basic Python: everyone ought to have finished the Codeacademy material.\n",
    "* Pandas: https://github.com/jvns/pandas-cookbook. https://github.com/brandon-rhodes/pycon-pandas-tutorial \n",
    "* Maybe the best one, a full course: https://github.com/anabranch/data_analysis_with_python_and_pandas \n",
    "* H2O demos? https://github.com/h2oai/h2o-3/tree/master/h2o-py/demos \n",
    "* H2O booklets: https://github.com/h2oai/h2o-3/tree/master/h2o-docs/src/booklets/v2_2015/PDFs/online \n",
    "* Kaggle by way of Pandas and Scikit-learn: https://github.com/savarin/pyconuk-introtutorial. Also https://github.com/GaelVaroquaux/sklearn_pandas_tutorial/tree/master/notebooks \n",
    "* Comparative: https://github.com/contravariant/pandas_dplyr.\n",
    "* Ooh. Looks useful for our GIS visualization project: https://github.com/UDST/pandana \n",
    "* Matplotlib tutorial: https://github.com/rougier/matplotlib-tutorial.\n",
    "* Leaflet plotting via matplotlib: https://github.com/jwass/mplleaflet\n",
    "* Plotly offline? https://plot.ly/python/offline/ \n",
    "* Numpy tutorial: https://github.com/rougier/numpy-tutorial\n",
    "* Numpy practice questions:  https://github.com/rougier/numpy-100 \n",
    "* Really solid scientific Python lecture notes, with examples to work on: https://github.com/scipy-lectures/scipy-lecture-notes\n",
    "* Donne Martin's well-known and kinda insane notebook collection: https://github.com/donnemartin/data-science-ipython-notebooks\n",
    "* Lists of awesome lists: https://github.com/sindresorhus/awesome\n",
    "* My stars: https://github.com/stars"
   ]
  },
  {
   "cell_type": "markdown",
   "metadata": {},
   "source": [
    "# What you need to be doing on your own\n",
    "\n",
    "[Continue working through the Codeacademy course](https://www.codecademy.com/); if you're done start going through the rest of the starter list:\n",
    "\n",
    "How to start learning on your own&mdash;roadmap on what to use:\n",
    " 1. [Basic Python Course&mdash;Codeacademy](https://www.codecademy.com/learn/python).\n",
    " 2. [Crash Course in Numpy and Pandas](https://github.com/anabranch/data_analysis_with_python_and_pandas).\n",
    " 3. [Data Visualization in Pandas](http://pandas.pydata.org/pandas-docs/stable/visualization.html).\n",
    " 4. From here you should have enough knowledge to put into action and attempt your first project!\n",
    "\n",
    "\n",
    "# What we will be doing next time\n",
    "\n",
    "You should all have the tools you need to start coding things on your own!\n",
    "\n",
    "Next time we will have more of an interactive session working through a dataset using `pandas`."
   ]
  }
 ],
 "metadata": {
  "kernelspec": {
   "display_name": "Python 3",
   "language": "python",
   "name": "python3"
  },
  "language_info": {
   "codemirror_mode": {
    "name": "ipython",
    "version": 3
   },
   "file_extension": ".py",
   "mimetype": "text/x-python",
   "name": "python",
   "nbconvert_exporter": "python",
   "pygments_lexer": "ipython3",
   "version": "3.5.1"
  }
 },
 "nbformat": 4,
 "nbformat_minor": 0
}
